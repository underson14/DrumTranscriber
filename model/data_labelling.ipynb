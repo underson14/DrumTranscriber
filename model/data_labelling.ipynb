{
 "cells": [
  {
   "attachments": {},
   "cell_type": "markdown",
   "metadata": {},
   "source": [
    "# Building Our Dataset\n",
    "\n",
    "The flow for data labeling:\n",
    "1. Seperate drum track from original selected song.\n",
    "2. For each drum track, apply onset detection using Librosa to extract each hit\n",
    "3. Use `pigeon` to display the options and apply annotation\n",
    "4. At the end, save our results into a JSON file for record."
   ]
  },
  {
   "cell_type": "code",
   "execution_count": 1,
   "metadata": {},
   "outputs": [],
   "source": [
    "import librosa\n",
    "from IPython.display import Audio\n",
    "\n",
    "import numpy as np\n",
    "\n",
    "import json\n",
    "from datetime import datetime as dt\n",
    "import os\n",
    "\n",
    "from utils.audio_utils import fix_audio_length"
   ]
  },
  {
   "cell_type": "markdown",
   "metadata": {},
   "source": [
    "## Creating a Session Class\n",
    "\n",
    "A session object represents a labeling session, which consists of:\n",
    "- A drum track\n",
    "- An index for checkpointing purposes\n",
    "- Annotations made\n",
    "- A save checkpoint function to save annotations and checkpoint index"
   ]
  },
  {
   "cell_type": "code",
   "execution_count": 2,
   "metadata": {},
   "outputs": [],
   "source": [
    "from utils.forked_pigeon import annotate\n",
    "from utils.config import SETTINGS\n",
    "\n",
    "class LabellingSession():\n",
    "    def __init__(self, audio_path: str, annotations:list = [], starting_index:int = 0):\n",
    "        self.audio_path = audio_path\n",
    "        self.annotations = annotations\n",
    "        self.checkpoint = starting_index\n",
    "        \n",
    "        samples, sr = librosa.load(audio_path, sr=44100)\n",
    "        onset_frames = librosa.onset.onset_detect(y=samples, sr=sr, \n",
    "                    units='samples', backtrack=True)\n",
    "        \n",
    "        self.samples = samples\n",
    "        self.sr = sr\n",
    "        self.hits = list(zip(onset_frames[:-1], onset_frames[1:]))\n",
    "        \n",
    "\n",
    "    def begin(self) -> list:\n",
    "        \"\"\" Creates an annotation loop, ends with returning annotations\n",
    "        \"\"\"\n",
    "        try:\n",
    "            hits = self.hits[self.checkpoint:] # start from where we ended off\n",
    "\n",
    "            labelling_examples = [fix_audio_length(self.samples[h[0]: h[1]], \n",
    "                                                   self.sr, 1) \n",
    "                                  for h in hits]\n",
    "\n",
    "            annotations, checkpoint_index = annotate(self.audio_path, labelling_examples,\n",
    "              options=list(SETTINGS['LABELS_INDEX'].values()),\n",
    "              display_fn=lambda example: display(Audio(example, rate=self.sr, autoplay=True))\n",
    "            )\n",
    "\n",
    "            self.annotations = annotations\n",
    "            self.checkpoint = checkpoint_index\n",
    "        \n",
    "        except Exception as e:\n",
    "            print(e)\n",
    "            self.checkpoint = len(annotations)\n",
    "            self.save_checkpoint()\n",
    "            \n",
    "\n",
    "    def save_checkpoint(self):\n",
    "        checkpoint = {\n",
    "            'date': dt.now().strftime(\"%Y-%m-%d\"),\n",
    "            'index_up_to': self.checkpoint,\n",
    "            'annotations': self.annotations\n",
    "        }\n",
    "                \n",
    "        json_object = json.dumps(checkpoint)\n",
    "        \n",
    "        with open(f'./dataset/labels/{dt.now().strftime(\"%Y_%m_%d_%H_%M_%S\")}.json', \"w\") as outfile:\n",
    "            outfile.write(json_object)\n",
    "        \n",
    "        print('Saved.')\n",
    "    "
   ]
  },
  {
   "cell_type": "code",
   "execution_count": 3,
   "metadata": {
    "scrolled": true
   },
   "outputs": [
    {
     "data": {
      "application/vnd.jupyter.widget-view+json": {
       "model_id": "40883f43b71248c2895dfd0bd74ceb99",
       "version_major": 2,
       "version_minor": 0
      },
      "text/plain": [
       "HTML(value='0 examples annotated, 356 examples left')"
      ]
     },
     "metadata": {},
     "output_type": "display_data"
    },
    {
     "data": {
      "application/vnd.jupyter.widget-view+json": {
       "model_id": "c581d99f380a4c8aa9469fd28e9fadff",
       "version_major": 2,
       "version_minor": 0
      },
      "text/plain": [
       "HBox(children=(Button(description='crash', style=ButtonStyle()), Button(description='hihat_c', style=ButtonSty…"
      ]
     },
     "metadata": {},
     "output_type": "display_data"
    },
    {
     "data": {
      "application/vnd.jupyter.widget-view+json": {
       "model_id": "ebda4215af7c40d480af87cd361c38fc",
       "version_major": 2,
       "version_minor": 0
      },
      "text/plain": [
       "Output()"
      ]
     },
     "metadata": {},
     "output_type": "display_data"
    }
   ],
   "source": [
    "session = LabellingSession(audio_path='./drum_tracks/1.mp3')\n",
    "\n",
    "session.begin()"
   ]
  },
  {
   "cell_type": "code",
   "execution_count": 18,
   "metadata": {},
   "outputs": [
    {
     "name": "stdout",
     "output_type": "stream",
     "text": [
      "Saved.\n"
     ]
    }
   ],
   "source": [
    "session.save_checkpoint()"
   ]
  },
  {
   "attachments": {},
   "cell_type": "markdown",
   "metadata": {},
   "source": [
    "### Label Summary\n",
    "\n",
    "After labelling, below is a summary of all the labels we've done."
   ]
  },
  {
   "cell_type": "code",
   "execution_count": 4,
   "metadata": {},
   "outputs": [
    {
     "name": "stdout",
     "output_type": "stream",
     "text": [
      "Label Counts: {'crash': 352, 'hihat_c': 485, 'kick_drum': 1512, 'ride': 351, 'snare': 1576, 'tom_h': 237}\n"
     ]
    }
   ],
   "source": [
    "import os\n",
    "\n",
    "label_files = os.listdir(\"./labels\")\n",
    "\n",
    "count_dict = {label: 0 for label in list(SETTINGS['LABELS_INDEX'].values())}\n",
    "\n",
    "for file in label_files:\n",
    "    f = open(f\"./labels/{file}\", \"r\")\n",
    "    \n",
    "    annotations = json.load(f).get('annotations')\n",
    "    annotations = [a[1] for a in annotations] # just take the labels instead of the path\n",
    "    \n",
    "    for label in count_dict.keys():\n",
    "        c = annotations.count(label)\n",
    "        count_dict[label] += c\n",
    "    \n",
    "    \n",
    "print(f\"Label Counts: {count_dict}\")"
   ]
  }
 ],
 "metadata": {
  "kernelspec": {
   "display_name": "Python 3 (ipykernel)",
   "language": "python",
   "name": "python3"
  },
  "language_info": {
   "codemirror_mode": {
    "name": "ipython",
    "version": 3
   },
   "file_extension": ".py",
   "mimetype": "text/x-python",
   "name": "python",
   "nbconvert_exporter": "python",
   "pygments_lexer": "ipython3",
   "version": "3.10.9"
  },
  "vscode": {
   "interpreter": {
    "hash": "10be97a11e868b718b42697301029a74f50ba3517953eac34620943640ecb7de"
   }
  }
 },
 "nbformat": 4,
 "nbformat_minor": 2
}
